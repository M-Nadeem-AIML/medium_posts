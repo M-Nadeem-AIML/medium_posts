{
 "cells": [
  {
   "cell_type": "markdown",
   "id": "0c132069",
   "metadata": {},
   "source": [
    "# Train Pytorch Regression on Mercari Data"
   ]
  },
  {
   "cell_type": "code",
   "execution_count": 1,
   "id": "3d959a83",
   "metadata": {},
   "outputs": [],
   "source": [
    "%load_ext autoreload\n",
    "%autoreload 2"
   ]
  },
  {
   "cell_type": "code",
   "execution_count": 2,
   "id": "57df5dbe",
   "metadata": {},
   "outputs": [],
   "source": [
    "import os\n",
    "import pandas as pd\n",
    "\n",
    "pd.set_option('display.max_rows', 1000)\n",
    "pd.set_option('display.max_columns', 1000)\n",
    "pd.set_option('display.width', 1000)"
   ]
  },
  {
   "cell_type": "code",
   "execution_count": 3,
   "id": "02fc48a0",
   "metadata": {},
   "outputs": [],
   "source": [
    "#keras tokenizer\n",
    "from keras.preprocessing import text\n",
    "from keras.preprocessing import sequence # for import pad_sequences"
   ]
  },
  {
   "cell_type": "code",
   "execution_count": 4,
   "id": "2d8ff1c6",
   "metadata": {},
   "outputs": [],
   "source": [
    "#pytorch tokenizer\n",
    "import torch\n",
    "import torch.nn as nn\n",
    "import torchtext\n",
    "\n",
    "from torch.utils.data import DataLoader\n",
    "from torch.nn.utils.rnn import pad_sequence\n",
    "\n",
    "import pytorch_lightning as pl\n",
    "from pytorch_lightning.callbacks.early_stopping import EarlyStopping\n",
    "from pytorch_lightning.callbacks.model_checkpoint import ModelCheckpoint\n",
    "from pytorch_lightning.callbacks import ModelSummary, LearningRateMonitor\n",
    "\n",
    "from sklearn import model_selection"
   ]
  },
  {
   "cell_type": "code",
   "execution_count": 5,
   "id": "f67e87cf-f4c3-44de-8428-984cc8993696",
   "metadata": {},
   "outputs": [],
   "source": [
    "import joblib"
   ]
  },
  {
   "cell_type": "code",
   "execution_count": 6,
   "id": "cb93f173",
   "metadata": {},
   "outputs": [],
   "source": [
    "from IPython.core.debugger import set_trace"
   ]
  },
  {
   "cell_type": "code",
   "execution_count": 7,
   "id": "f404d971",
   "metadata": {},
   "outputs": [],
   "source": [
    "import socket\n",
    "import re"
   ]
  },
  {
   "cell_type": "code",
   "execution_count": 8,
   "id": "2152f21d",
   "metadata": {},
   "outputs": [],
   "source": [
    "import os\n",
    "os.environ['CUDA_LAUNCH_BLOCKING'] = \"1\"\n",
    "\n",
    "#https://docs.nvidia.com/cuda/cublas/index.html#cublasApi_reproducibility\n",
    "os.environ[\"UBLAS_WORKSPACE_CONFIG\"] = \":4096:8\""
   ]
  },
  {
   "cell_type": "code",
   "execution_count": 9,
   "id": "a0ca5a70",
   "metadata": {},
   "outputs": [
    {
     "name": "stdout",
     "output_type": "stream",
     "text": [
      "True\n",
      "0\n",
      "1\n",
      "Quadro RTX 4000\n",
      "Using device: cuda\n"
     ]
    }
   ],
   "source": [
    "import gc\n",
    "import random\n",
    "import numpy as np\n",
    "\n",
    "is_cuda = torch.cuda.is_available()\n",
    "\n",
    "\n",
    "if is_cuda:\n",
    "    print(is_cuda)\n",
    "    print(torch.cuda.current_device())\n",
    "    print(torch.cuda.device_count())\n",
    "    print(torch.cuda.get_device_name(0))\n",
    "    device = torch.device('cuda' if torch.cuda.is_available() else 'cpu')\n",
    "    \n",
    "else:\n",
    "    device = torch.device(\"cpu\")\n",
    "\n",
    "    \n",
    "print('Using device:', device)   \n",
    "SEED = 1234\n",
    "\n",
    "random.seed(SEED)\n",
    "np.random.seed(SEED)\n",
    "torch.manual_seed(SEED)\n",
    "torch.cuda.manual_seed(SEED)\n",
    "torch.backends.cudnn.deterministic = True\n"
   ]
  },
  {
   "cell_type": "code",
   "execution_count": 10,
   "id": "b05eb01b",
   "metadata": {},
   "outputs": [],
   "source": [
    "import sys\n",
    "sys.path.append(\"./prediction/\")\n",
    "\n",
    "import pytorch_dataset as pytorch_dataset\n",
    "import pytorch_model as pytorch_model\n",
    "import utils as utils"
   ]
  },
  {
   "cell_type": "code",
   "execution_count": 11,
   "id": "46d5c962-091e-466a-b9c8-3f5201091af7",
   "metadata": {},
   "outputs": [],
   "source": [
    "model_dump_path = \"./model\""
   ]
  },
  {
   "cell_type": "code",
   "execution_count": 12,
   "id": "152bbbdd",
   "metadata": {},
   "outputs": [
    {
     "name": "stdout",
     "output_type": "stream",
     "text": [
      "train len: 1481661\n"
     ]
    }
   ],
   "source": [
    "train = pd.read_parquet(\"./data/processed/train_processed.parquet\")\n",
    "print(f\"train len: {len(train)}\")\n",
    "\n",
    "#test = pd.read_parquet(\"./data/processed/test_processed.parquet\")\n",
    "#print(f\"test len: {len(test)}\")\n",
    "\n",
    "#create dummy variable price for test set\n",
    "#test[\"price\"] = train[\"price\"].min()\n",
    "\n",
    "\n",
    "train.insert(len(train.columns)-1, 'price', train.pop('price'))\n",
    "train.rename(columns = {\"train_id\": \"id\"}, inplace=True)\n",
    "\n",
    "#test.insert(len(test.columns)-1, 'price', test.pop('price'))\n",
    "#test.rename(columns = {\"test_id\": \"id\"}, inplace=True)\n",
    "\n",
    "train[\"price_log\"] = np.log1p(train[\"price\"])\n",
    "#test[\"price_log\"] = np.log1p(test[\"price\"])"
   ]
  },
  {
   "cell_type": "markdown",
   "id": "4b77bf35-57c6-4650-b183-2e149131b13b",
   "metadata": {},
   "source": [
    "## Sample From Train"
   ]
  },
  {
   "cell_type": "code",
   "execution_count": 13,
   "id": "6f8823bf-701f-4ad0-9dbf-b5a4e8487bc3",
   "metadata": {},
   "outputs": [],
   "source": [
    "#train = train.sample(frac = 0.1)\n",
    "#train.shape"
   ]
  },
  {
   "cell_type": "markdown",
   "id": "b9f65ab0",
   "metadata": {},
   "source": [
    "# Mercari Price Prediction Pytorch"
   ]
  },
  {
   "cell_type": "code",
   "execution_count": 14,
   "id": "ebab0ed6",
   "metadata": {},
   "outputs": [],
   "source": [
    "import category_encoders as ce\n",
    "import feature_engine.encoding as fe\n",
    "from sklearn.compose import ColumnTransformer\n",
    "from sklearn.preprocessing import MinMaxScaler, StandardScaler\n",
    "from sklearn.preprocessing import StandardScaler\n",
    "from sklearn.preprocessing import RobustScaler\n",
    "from sklearn.preprocessing import QuantileTransformer\n",
    "from sklearn.preprocessing import PowerTransformer\n",
    "\n",
    "from sklearn.pipeline import Pipeline\n",
    "\n",
    "import sklearn.metrics as metrics"
   ]
  },
  {
   "cell_type": "code",
   "execution_count": 15,
   "id": "f67cc914",
   "metadata": {},
   "outputs": [],
   "source": [
    "columns_numerical = [\"shipping\", \"desc_len\", \"name_len\", \"is_brand_missing\", \"is_item_description_missing\"]\n",
    "\n",
    "encoder_numerical = Pipeline([\n",
    "    (\"selector\", ColumnTransformer([(\"selector\", \"passthrough\", columns_numerical)], remainder=\"drop\")), \n",
    "    (\"normalizer\", StandardScaler())\n",
    "])\n",
    "\n",
    "columns_categorical = [\"item_condition_id\", \"brand_name\", \"subcategory_1\", \"subcategory_2\", \"subcategory_3\"]\n",
    "\n",
    "\n",
    "columns_text = [\"name\", \"item_description\"]\n",
    "columns_char = [\"name\", \"item_description\"]\n",
    "target = \"price_log\"\n",
    "is_target_log = True"
   ]
  },
  {
   "cell_type": "code",
   "execution_count": 16,
   "id": "b6bb954d-d5af-4178-83ae-694397dd5fad",
   "metadata": {},
   "outputs": [
    {
     "name": "stdout",
     "output_type": "stream",
     "text": [
      "shipping\n",
      "converting shipping to float32\n",
      "desc_len\n",
      "converting desc_len to float32\n",
      "name_len\n",
      "converting name_len to float32\n",
      "is_brand_missing\n",
      "converting is_brand_missing to float32\n",
      "is_item_description_missing\n",
      "converting is_item_description_missing to float32\n"
     ]
    }
   ],
   "source": [
    "for num in columns_numerical:\n",
    "    print(num)\n",
    "    if train[num].dtype != np.float32:\n",
    "        print(f\"converting {num} to float32\")\n",
    "        train[num] = train[num].astype(np.float32)\n",
    "        \n",
    "        \n",
    "#for num in columns_numerical:\n",
    "#    print(num)\n",
    "#    if test[num].dtype != np.float32:\n",
    "#        print(f\"converting {num} to float32\")\n",
    "#        test[num] = test[num].astype(np.float32)"
   ]
  },
  {
   "cell_type": "markdown",
   "id": "94e3e89e",
   "metadata": {},
   "source": [
    "## Pytorch Lightning"
   ]
  },
  {
   "cell_type": "code",
   "execution_count": 17,
   "id": "1270dc05",
   "metadata": {},
   "outputs": [
    {
     "name": "stdout",
     "output_type": "stream",
     "text": [
      "target: price_log\n",
      "train: (1185328, 16)\n",
      "test: (296333, 16)\n",
      "train set mode\n",
      "=> target encoding\n",
      "=> numerical encoding\n",
      "=> categorical encoding\n",
      "=> tokenizing name\n",
      "==> name vocabulary size 104570 \n",
      "=> tokenizing item_description\n",
      "==> item_description vocabulary size 184473 \n",
      "=> tokenizing chars name\n",
      "==> name vocabulary size 455 \n",
      "=> tokenizing chars item_description\n",
      "==> item_description vocabulary size 995 \n",
      "target min, max range (-2.7831687470788093, 4.21176858471614)\n",
      "test set mode\n",
      "=> target encoding\n",
      "=> numerical encoding\n",
      "=> categorical encoding\n",
      "name vocabulary size 104570\n",
      "item_description vocabulary size 184473\n",
      "name vocabulary size 455\n",
      "item_description vocabulary size 995\n",
      "target min, max range (-2.7831687470788093, 4.21270471801917)\n"
     ]
    }
   ],
   "source": [
    "X_train, X_validation, y_train, y_validation = model_selection.train_test_split(train, train[target].values, test_size=0.20, random_state=42)\n",
    "dd_train, dd_validation = pytorch_dataset.build_pytorch_dataset(X_train, \n",
    "                                         X_validation, \n",
    "                                         encoder_numerical = encoder_numerical, \n",
    "                                         categorical_names = columns_categorical,\n",
    "                                         text_names = columns_text, \n",
    "                                         char_names = columns_char, \n",
    "                                         target_name = target, \n",
    "                                         encoder_target = PowerTransformer(method=\"box-cox\"), \n",
    "                                         verbose = True)"
   ]
  },
  {
   "cell_type": "code",
   "execution_count": 18,
   "id": "7758e23b",
   "metadata": {},
   "outputs": [
    {
     "data": {
      "text/plain": [
       "1185328"
      ]
     },
     "execution_count": 18,
     "metadata": {},
     "output_type": "execute_result"
    }
   ],
   "source": [
    "len(dd_train)"
   ]
  },
  {
   "cell_type": "code",
   "execution_count": 19,
   "id": "4a0a3c17-00df-4715-83b7-8162fd21709d",
   "metadata": {},
   "outputs": [
    {
     "data": {
      "text/plain": [
       "296333"
      ]
     },
     "execution_count": 19,
     "metadata": {},
     "output_type": "execute_result"
    }
   ],
   "source": [
    "len(dd_validation)"
   ]
  },
  {
   "cell_type": "code",
   "execution_count": 20,
   "id": "1a206c5f",
   "metadata": {},
   "outputs": [],
   "source": [
    "batch_size = 1024\n",
    "train_loader = DataLoader(dd_train, shuffle = True, batch_size = batch_size, collate_fn = pytorch_dataset.pytorch_collate_fn)\n",
    "validation_loader = DataLoader(dd_validation, shuffle = False, batch_size = batch_size, collate_fn = pytorch_dataset.pytorch_collate_fn)"
   ]
  },
  {
   "cell_type": "code",
   "execution_count": 21,
   "id": "690e5a41",
   "metadata": {
    "tags": []
   },
   "outputs": [
    {
     "name": "stdout",
     "output_type": "stream",
     "text": [
      "\"categorical_embedding_dropout\":   0.4\n",
      "\"categorical_embedding_size\":      [(6, 4), (4522, 178), (12, 6), (115, 23), (866, 71)]\n",
      "\"char_bidirectional\":              False\n",
      "\"char_embedding_dimension\":        40\n",
      "\"char_recurrent_hidden_size\":      50\n",
      "\"char_recurrent_layers\":           1\n",
      "\"char_rnn\":                        LSTM\n",
      "\"char_vocabulary_size\":            {'name': 455, 'item_description': 995}\n",
      "\"final_linear_layer\":              True\n",
      "\"final_normalization\":             False\n",
      "\"is_target_log\":                   True\n",
      "\"learning_rate\":                   0.001\n",
      "\"linear_layer_activation\":         ReLU(inplace=True)\n",
      "\"linear_layer_normalization\":      BatchNorm1d\n",
      "\"linear_layer_skip_connections\":   (3, ([1024], [0.3]))\n",
      "\"linear_layers\":                   ([512], [0.2])\n",
      "\"loss_function\":                   MSELoss()\n",
      "\"metric_to_monitor\":               rmsle\n",
      "\"normalization_before_activation\": True\n",
      "\"numerical_batch_normalization\":   True\n",
      "\"numerical_input_size\":            5\n",
      "\"optimizer\":                       Adam\n",
      "\"pretrained_hparams\":              False\n",
      "\"target_encoder\":                  PowerTransformer(method='box-cox')\n",
      "\"target_range\":                    None\n",
      "\"text_as_embedding_bag\":           False\n",
      "\"text_as_embedding_bag_mode\":      mean\n",
      "\"text_bidirectional\":              True\n",
      "\"text_embedding_dimension\":        50\n",
      "\"text_recurrent_hidden_size\":      100\n",
      "\"text_recurrent_layers\":           2\n",
      "\"text_rnn\":                        GRU\n",
      "\"text_vocabulary_size\":            {'name': 104570, 'item_description': 184473}\n",
      "\"verbose\":                         True\n",
      "processing text\n",
      "processing chars\n",
      "sizes detailed: [['cat: 282', 'num: 5', 'text: 400', 'char:100'], 'skip: 1024', 'lin: 512', 1]\n",
      "sizes: [787, 1024, 512, 1]\n"
     ]
    },
    {
     "data": {
      "text/plain": [
       "PytorchModel(\n",
       "  (metric): MeanSquaredError()\n",
       "  (loss_function): MSELoss()\n",
       "  (embeds): ModuleList(\n",
       "    (0): Embedding(6, 4, padding_idx=0)\n",
       "    (1): Embedding(4522, 178, padding_idx=0)\n",
       "    (2): Embedding(12, 6, padding_idx=0)\n",
       "    (3): Embedding(115, 23, padding_idx=0)\n",
       "    (4): Embedding(866, 71, padding_idx=0)\n",
       "  )\n",
       "  (categorical_dropout): Dropout(p=0.4, inplace=False)\n",
       "  (batch_normalization_numerical): BatchNorm1d(5, eps=1e-05, momentum=0.1, affine=True, track_running_stats=True)\n",
       "  (text_embeddings): ModuleList(\n",
       "    (0): TextRecurrentLayer(\n",
       "      (embedding): Embedding(104570, 50, padding_idx=0)\n",
       "      (rnn): GRU(50, 100, num_layers=2, batch_first=True, bidirectional=True)\n",
       "      (last_time_step): LastTimeStep()\n",
       "    )\n",
       "    (1): TextRecurrentLayer(\n",
       "      (embedding): Embedding(184473, 50, padding_idx=0)\n",
       "      (rnn): GRU(50, 100, num_layers=2, batch_first=True, bidirectional=True)\n",
       "      (last_time_step): LastTimeStep()\n",
       "    )\n",
       "  )\n",
       "  (char_embeddings): ModuleList(\n",
       "    (0): TextRecurrentLayer(\n",
       "      (embedding): Embedding(455, 40, padding_idx=0)\n",
       "      (rnn): LSTM(40, 50, batch_first=True)\n",
       "      (last_time_step): LastTimeStep()\n",
       "    )\n",
       "    (1): TextRecurrentLayer(\n",
       "      (embedding): Embedding(995, 40, padding_idx=0)\n",
       "      (rnn): LSTM(40, 50, batch_first=True)\n",
       "      (last_time_step): LastTimeStep()\n",
       "    )\n",
       "  )\n",
       "  (linear_layers): Sequential(\n",
       "    (0): SkipDenseConnection(\n",
       "      (activation): ReLU(inplace=True)\n",
       "      (skip_layers): ModuleList(\n",
       "        (0): LinearNormDropActivation(\n",
       "          (0): Linear(in_features=787, out_features=787, bias=False)\n",
       "          (1): BatchNorm1d(787, eps=1e-05, momentum=0.1, affine=True, track_running_stats=True)\n",
       "          (2): ReLU(inplace=True)\n",
       "          (3): Dropout(p=0.3, inplace=False)\n",
       "        )\n",
       "        (1): LinearNormDropActivation(\n",
       "          (0): Linear(in_features=787, out_features=787, bias=False)\n",
       "          (1): BatchNorm1d(787, eps=1e-05, momentum=0.1, affine=True, track_running_stats=True)\n",
       "          (2): ReLU(inplace=True)\n",
       "          (3): Dropout(p=0.3, inplace=False)\n",
       "        )\n",
       "        (2): LinearNormDropActivation(\n",
       "          (0): Linear(in_features=1574, out_features=1024, bias=False)\n",
       "          (1): BatchNorm1d(1024, eps=1e-05, momentum=0.1, affine=True, track_running_stats=True)\n",
       "          (2): ReLU(inplace=True)\n",
       "          (3): Dropout(p=0.3, inplace=False)\n",
       "        )\n",
       "      )\n",
       "    )\n",
       "    (1): LinearNormDropActivation(\n",
       "      (0): Linear(in_features=1024, out_features=512, bias=False)\n",
       "      (1): BatchNorm1d(512, eps=1e-05, momentum=0.1, affine=True, track_running_stats=True)\n",
       "      (2): ReLU(inplace=True)\n",
       "      (3): Dropout(p=0.2, inplace=False)\n",
       "    )\n",
       "  )\n",
       "  (final_layer): Sequential(\n",
       "    (0): LinearNormDropActivation(\n",
       "      (0): Linear(in_features=512, out_features=1, bias=True)\n",
       "    )\n",
       "  )\n",
       ")"
      ]
     },
     "execution_count": 21,
     "metadata": {},
     "output_type": "execute_result"
    }
   ],
   "source": [
    "gc.collect()\n",
    "torch.cuda.empty_cache()\n",
    "\n",
    "metric_to_monitor = \"rmsle\"\n",
    "\n",
    "model = pytorch_model.PytorchModel(target_encoder = dd_train.get_encoder_target(), \n",
    "                                            is_target_log = is_target_log, \n",
    "                                            optimizer = \"Adam\",\n",
    "                                            metric_to_monitor = metric_to_monitor,\n",
    "                                            numerical_input_size=dd_train.get_data_numerical().shape[1], \n",
    "                                            numerical_batch_normalization = True, \n",
    "                                            categorical_embedding_size=dd_train.get_data_categorical_embedding_sizes(), \n",
    "                                            categorical_embedding_dropout = 0.4,\n",
    "                                            text_as_embedding_bag = False, \n",
    "                                            text_as_embedding_bag_mode = \"mean\", \n",
    "                                            text_vocabulary_size = dd_train.get_text_vocabulary_size(), \n",
    "                                            text_embedding_dimension = 50, \n",
    "                                            text_bidirectional = True, \n",
    "                                            text_recurrent_hidden_size = 100, \n",
    "                                            text_recurrent_layers = 2, \n",
    "                                            text_rnn = \"GRU\",\n",
    "                                            char_vocabulary_size = dd_train.get_char_vocabulary_size(),\n",
    "                                            char_embedding_dimension = 40, \n",
    "                                            char_bidirectional = False, \n",
    "                                            char_recurrent_hidden_size = 50, \n",
    "                                            char_recurrent_layers = 1, \n",
    "                                            char_rnn = \"LSTM\",\n",
    "                                            linear_layer_skip_connections = (3, ([1024], [0.3])),\n",
    "                                            linear_layers = ([512], [0.2]),\n",
    "                                            linear_layer_normalization = \"BatchNorm1d\",\n",
    "                                            normalization_before_activation = True, \n",
    "                                            linear_layer_activation = nn.ReLU(inplace=True),\n",
    "                                            final_linear_layer=True, \n",
    "                                            final_normalization = False, \n",
    "                                            loss_function = nn.MSELoss(),\n",
    "                                            learning_rate = 0.001, \n",
    "                                            verbose = True\n",
    "                              )\n",
    "model"
   ]
  },
  {
   "cell_type": "code",
   "execution_count": 22,
   "id": "3c245905",
   "metadata": {},
   "outputs": [
    {
     "name": "stdout",
     "output_type": "stream",
     "text": [
      "epochs: 10\n"
     ]
    },
    {
     "name": "stderr",
     "output_type": "stream",
     "text": [
      "Using 16bit native Automatic Mixed Precision (AMP)\n",
      "GPU available: True, used: True\n",
      "TPU available: False, using: 0 TPU cores\n",
      "IPU available: False, using: 0 IPUs\n"
     ]
    }
   ],
   "source": [
    "early_stop_callback = EarlyStopping(monitor=metric_to_monitor, min_delta=0.00, patience=5, mode=\"min\", verbose = True)\n",
    "\n",
    "checkpoint_filename = \"epoch{epoch:02d}-loss{loss:.2f}-val_loss{val_loss:.2f}-rmsle{rmsle:.3f}\"\n",
    "model_checkpoint_callback = ModelCheckpoint(monitor=metric_to_monitor, filename=checkpoint_filename, \n",
    "                                            auto_insert_metric_name=False, \n",
    "                                            dirpath=model_dump_path, \n",
    "                                            save_weights_only = False,\n",
    "                                            verbose = True)\n",
    "\n",
    "\n",
    "epochs = 10\n",
    "enable_model_summary = False\n",
    "\n",
    "print(f\"epochs: {epochs}\")\n",
    "\n",
    "#limit_train_batches=0.1\n",
    "trainer = pl.Trainer(precision=16, \n",
    "                     auto_select_gpus = True, \n",
    "                     gpus=1, \n",
    "                     enable_checkpointing = True, \n",
    "                     check_val_every_n_epoch  = 1, \n",
    "                     max_epochs=epochs, \n",
    "                     enable_model_summary = enable_model_summary, \n",
    "                     default_root_dir = \"./\", \n",
    "                     enable_progress_bar = True, \n",
    "                     deterministic = False, \n",
    "                     callbacks=[model_checkpoint_callback])\n",
    " \n"
   ]
  },
  {
   "cell_type": "markdown",
   "id": "7c7e6a89",
   "metadata": {},
   "source": [
    "### Fit model in Lightning"
   ]
  },
  {
   "cell_type": "code",
   "execution_count": null,
   "id": "1eea32a4-7dec-486a-91eb-d81bc5856277",
   "metadata": {},
   "outputs": [],
   "source": [
    "trainer.fit(model, train_dataloaders=train_loader, val_dataloaders=validation_loader)"
   ]
  },
  {
   "cell_type": "markdown",
   "id": "231c134e-02f0-480b-8d4d-89e31e631a7b",
   "metadata": {},
   "source": [
    "## Save Train Dataset"
   ]
  },
  {
   "cell_type": "code",
   "execution_count": 24,
   "id": "c3cf4226-2b20-4936-8c8d-234d651c2ae5",
   "metadata": {},
   "outputs": [],
   "source": [
    "model_checkpoint = os.path.basename(model_checkpoint_callback.best_model_path)\n",
    "model_path = os.path.splitext(model_checkpoint)[0]"
   ]
  },
  {
   "cell_type": "code",
   "execution_count": 25,
   "id": "1a989631-4ef9-4fa9-b76b-e3638aa89045",
   "metadata": {},
   "outputs": [
    {
     "data": {
      "text/plain": [
       "['./model\\\\data_dump_epoch07-loss0.24-val_loss0.34-rmsle0.429.dump']"
      ]
     },
     "execution_count": 25,
     "metadata": {},
     "output_type": "execute_result"
    }
   ],
   "source": [
    "joblib.dump({'train_set': X_train, 'dd_train': dd_train, 'validation_set': X_validation, 'model': model_checkpoint}, filename = os.path.join(model_dump_path, f\"data_dump_{model_path}.dump\"))"
   ]
  },
  {
   "cell_type": "markdown",
   "id": "1a2464ad-85d9-4640-80e6-4849bee7957b",
   "metadata": {},
   "source": [
    "### Predict"
   ]
  },
  {
   "cell_type": "code",
   "execution_count": 28,
   "id": "b0db82e0-d41d-4622-bdc6-d98523591ceb",
   "metadata": {},
   "outputs": [
    {
     "data": {
      "text/plain": [
       "1481661"
      ]
     },
     "execution_count": 28,
     "metadata": {},
     "output_type": "execute_result"
    }
   ],
   "source": [
    "len(train)"
   ]
  },
  {
   "cell_type": "code",
   "execution_count": 29,
   "id": "2ab968a5-a4e4-4c2a-a659-731ebfa8e799",
   "metadata": {},
   "outputs": [
    {
     "data": {
      "text/html": [
       "<div>\n",
       "<style scoped>\n",
       "    .dataframe tbody tr th:only-of-type {\n",
       "        vertical-align: middle;\n",
       "    }\n",
       "\n",
       "    .dataframe tbody tr th {\n",
       "        vertical-align: top;\n",
       "    }\n",
       "\n",
       "    .dataframe thead th {\n",
       "        text-align: right;\n",
       "    }\n",
       "</style>\n",
       "<table border=\"1\" class=\"dataframe\">\n",
       "  <thead>\n",
       "    <tr style=\"text-align: right;\">\n",
       "      <th></th>\n",
       "      <th>id</th>\n",
       "      <th>name</th>\n",
       "      <th>item_condition_id</th>\n",
       "      <th>category_name</th>\n",
       "      <th>brand_name</th>\n",
       "      <th>shipping</th>\n",
       "      <th>item_description</th>\n",
       "      <th>desc_len</th>\n",
       "      <th>name_len</th>\n",
       "      <th>subcategory_1</th>\n",
       "      <th>subcategory_2</th>\n",
       "      <th>subcategory_3</th>\n",
       "      <th>is_brand_missing</th>\n",
       "      <th>is_item_description_missing</th>\n",
       "      <th>price</th>\n",
       "      <th>price_log</th>\n",
       "    </tr>\n",
       "  </thead>\n",
       "  <tbody>\n",
       "    <tr>\n",
       "      <th>0</th>\n",
       "      <td>0</td>\n",
       "      <td>mlb cincinnati reds t shirt size xl</td>\n",
       "      <td>3</td>\n",
       "      <td>Men/Tops/T-shirts</td>\n",
       "      <td>missing</td>\n",
       "      <td>1.0</td>\n",
       "      <td>missing</td>\n",
       "      <td>0.0</td>\n",
       "      <td>7.0</td>\n",
       "      <td>men</td>\n",
       "      <td>tops</td>\n",
       "      <td>t-shirts</td>\n",
       "      <td>1.0</td>\n",
       "      <td>1.0</td>\n",
       "      <td>10.0</td>\n",
       "      <td>2.397895</td>\n",
       "    </tr>\n",
       "    <tr>\n",
       "      <th>1</th>\n",
       "      <td>1</td>\n",
       "      <td>razer blackwidow chroma keyboard</td>\n",
       "      <td>3</td>\n",
       "      <td>Electronics/Computers &amp; Tablets/Components &amp; P...</td>\n",
       "      <td>razer</td>\n",
       "      <td>0.0</td>\n",
       "      <td>this keyboard is in great condition and works ...</td>\n",
       "      <td>36.0</td>\n",
       "      <td>4.0</td>\n",
       "      <td>electronics</td>\n",
       "      <td>computers &amp; tablets</td>\n",
       "      <td>components &amp; parts</td>\n",
       "      <td>0.0</td>\n",
       "      <td>0.0</td>\n",
       "      <td>52.0</td>\n",
       "      <td>3.970292</td>\n",
       "    </tr>\n",
       "    <tr>\n",
       "      <th>2</th>\n",
       "      <td>2</td>\n",
       "      <td>ava-viv blouse</td>\n",
       "      <td>1</td>\n",
       "      <td>Women/Tops &amp; Blouses/Blouse</td>\n",
       "      <td>target</td>\n",
       "      <td>1.0</td>\n",
       "      <td>adorable top with a hint of lace and a key hol...</td>\n",
       "      <td>29.0</td>\n",
       "      <td>2.0</td>\n",
       "      <td>women</td>\n",
       "      <td>tops &amp; blouses</td>\n",
       "      <td>blouse</td>\n",
       "      <td>0.0</td>\n",
       "      <td>0.0</td>\n",
       "      <td>10.0</td>\n",
       "      <td>2.397895</td>\n",
       "    </tr>\n",
       "    <tr>\n",
       "      <th>3</th>\n",
       "      <td>3</td>\n",
       "      <td>leather horse statues</td>\n",
       "      <td>1</td>\n",
       "      <td>Home/Home Décor/Home Décor Accents</td>\n",
       "      <td>missing</td>\n",
       "      <td>1.0</td>\n",
       "      <td>new with tags. leather horses. retail for [rm]...</td>\n",
       "      <td>32.0</td>\n",
       "      <td>3.0</td>\n",
       "      <td>home</td>\n",
       "      <td>home décor</td>\n",
       "      <td>home décor accents</td>\n",
       "      <td>1.0</td>\n",
       "      <td>0.0</td>\n",
       "      <td>35.0</td>\n",
       "      <td>3.583519</td>\n",
       "    </tr>\n",
       "    <tr>\n",
       "      <th>4</th>\n",
       "      <td>4</td>\n",
       "      <td>24k gold plated rose</td>\n",
       "      <td>1</td>\n",
       "      <td>Women/Jewelry/Necklaces</td>\n",
       "      <td>missing</td>\n",
       "      <td>0.0</td>\n",
       "      <td>complete with certificate of authenticity</td>\n",
       "      <td>5.0</td>\n",
       "      <td>4.0</td>\n",
       "      <td>women</td>\n",
       "      <td>jewelry</td>\n",
       "      <td>necklaces</td>\n",
       "      <td>1.0</td>\n",
       "      <td>0.0</td>\n",
       "      <td>44.0</td>\n",
       "      <td>3.806662</td>\n",
       "    </tr>\n",
       "  </tbody>\n",
       "</table>\n",
       "</div>"
      ],
      "text/plain": [
       "   id                                 name item_condition_id                                      category_name brand_name  shipping                                   item_description  desc_len  name_len subcategory_1        subcategory_2       subcategory_3  is_brand_missing  is_item_description_missing  price  price_log\n",
       "0   0  mlb cincinnati reds t shirt size xl                 3                                  Men/Tops/T-shirts    missing       1.0                                            missing       0.0       7.0           men                 tops            t-shirts               1.0                          1.0   10.0   2.397895\n",
       "1   1     razer blackwidow chroma keyboard                 3  Electronics/Computers & Tablets/Components & P...      razer       0.0  this keyboard is in great condition and works ...      36.0       4.0   electronics  computers & tablets  components & parts               0.0                          0.0   52.0   3.970292\n",
       "2   2                       ava-viv blouse                 1                        Women/Tops & Blouses/Blouse     target       1.0  adorable top with a hint of lace and a key hol...      29.0       2.0         women       tops & blouses              blouse               0.0                          0.0   10.0   2.397895\n",
       "3   3                leather horse statues                 1                 Home/Home Décor/Home Décor Accents    missing       1.0  new with tags. leather horses. retail for [rm]...      32.0       3.0          home           home décor  home décor accents               1.0                          0.0   35.0   3.583519\n",
       "4   4                 24k gold plated rose                 1                            Women/Jewelry/Necklaces    missing       0.0          complete with certificate of authenticity       5.0       4.0         women              jewelry           necklaces               1.0                          0.0   44.0   3.806662"
      ]
     },
     "execution_count": 29,
     "metadata": {},
     "output_type": "execute_result"
    }
   ],
   "source": [
    "train.head()"
   ]
  },
  {
   "cell_type": "code",
   "execution_count": 31,
   "id": "a0741520-7311-4fdf-8513-43da303b250a",
   "metadata": {},
   "outputs": [
    {
     "data": {
      "text/plain": [
       "array(['missing', 'razer', 'target', ..., 'astroglide', 'cumberland bay',\n",
       "       'kids only'], dtype=object)"
      ]
     },
     "execution_count": 31,
     "metadata": {},
     "output_type": "execute_result"
    }
   ],
   "source": [
    "train.brand_name.unique()"
   ]
  },
  {
   "cell_type": "code",
   "execution_count": 32,
   "id": "455f80d2-c776-47b9-88ef-55f8b78d556e",
   "metadata": {},
   "outputs": [
    {
     "data": {
      "text/plain": [
       "4806"
      ]
     },
     "execution_count": 32,
     "metadata": {},
     "output_type": "execute_result"
    }
   ],
   "source": [
    "train.brand_name.nunique()"
   ]
  },
  {
   "cell_type": "code",
   "execution_count": null,
   "id": "a68491b5-c604-4051-a3ce-94fb4cec8cef",
   "metadata": {},
   "outputs": [],
   "source": []
  }
 ],
 "metadata": {
  "kernelspec": {
   "display_name": "Python [conda env:pytorch]",
   "language": "python",
   "name": "conda-env-pytorch-py"
  },
  "language_info": {
   "codemirror_mode": {
    "name": "ipython",
    "version": 3
   },
   "file_extension": ".py",
   "mimetype": "text/x-python",
   "name": "python",
   "nbconvert_exporter": "python",
   "pygments_lexer": "ipython3",
   "version": "3.8.8"
  },
  "toc-autonumbering": false,
  "toc-showcode": false,
  "toc-showmarkdowntxt": false,
  "toc-showtags": true
 },
 "nbformat": 4,
 "nbformat_minor": 5
}
